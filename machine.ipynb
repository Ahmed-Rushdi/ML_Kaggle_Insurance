{
 "cells": [
  {
   "cell_type": "code",
   "execution_count": 1,
   "metadata": {},
   "outputs": [],
   "source": [
    "\n",
    "# # <p style=\"text-align: center;\"> Names </p>\n",
    "# ## <p style=\"text-align: center;\"> AI S1,S2 </p>\n",
    "# | <font size=\"4\"> Name  </font> | <font size=\"4\">  ID  </font>|\n",
    "# | --- | --- |\n",
    "# | <font size=\"4\"> Ahmed Rushdi Mohammed </font> | <font size=\"4\"> 20180008 </font>  |\n",
    "# |  <font size=\"4\"> Mohammed Waleed Mohammed </font> | <font size=\"4\"> 20180244 </font>  |\n",
    "# |  <font size=\"4\"> Aoss Maged Sultan</font> | <font size=\"4\"> 20180432 </font>  |\n",
    "#\n",
    "# # Phase 1\n",
    "#\n",
    "# ### 1. Load Dataset"
   ]
  },
  {
   "cell_type": "code",
   "execution_count": 2,
   "metadata": {
    "lines_to_next_cell": 2
   },
   "outputs": [],
   "source": [
    "\n",
    "from sklearn.svm import SVR\n",
    "import numpy as np\n",
    "from sklearn.preprocessing import PolynomialFeatures\n",
    "from sklearn.linear_model import LinearRegression\n",
    "import matplotlib.pyplot as plt\n",
    "from sklearn.model_selection import train_test_split\n",
    "from sklearn.compose import ColumnTransformer\n",
    "from sklearn.preprocessing import OneHotEncoder\n",
    "import pandas as pd"
   ]
  },
  {
   "cell_type": "code",
   "execution_count": 3,
   "metadata": {},
   "outputs": [],
   "source": [
    "\n",
    "\n",
    "path = 'D:\\\\Study_code\\\\py\\\\ML\\\\phase1\\\\insurance.csv'\n",
    "df = pd.read_csv(path)\n",
    "X = df.iloc[:, :-1].values\n",
    "y = df.iloc[:, -1].values\n",
    "\n",
    "\n",
    "# # Phase 2\n",
    "# ### Handle Empty cells"
   ]
  },
  {
   "cell_type": "code",
   "execution_count": 4,
   "metadata": {},
   "outputs": [
    {
     "data": {
      "text/plain": [
       "age         0\n",
       "sex         0\n",
       "bmi         0\n",
       "children    0\n",
       "smoker      0\n",
       "region      0\n",
       "charges     0\n",
       "dtype: int64"
      ]
     },
     "execution_count": 4,
     "metadata": {},
     "output_type": "execute_result"
    }
   ],
   "source": [
    "\n",
    "\n",
    "df.isnull().sum()\n",
    "\n",
    "\n",
    "# df contains no null values\n",
    "\n",
    "#  ### Encoding"
   ]
  },
  {
   "cell_type": "code",
   "execution_count": 5,
   "metadata": {},
   "outputs": [],
   "source": [
    "\n",
    "\n",
    "ct = ColumnTransformer(\n",
    "    [('one_hot_encoder', OneHotEncoder(categories='auto'), [1, 3, 4, 5])],\n",
    "    remainder='passthrough'\n",
    ")\n",
    "X = ct.fit_transform(X)\n",
    "\n",
    "# One hot encode the data\n",
    "\n",
    "# ### Train-test Split"
   ]
  },
  {
   "cell_type": "code",
   "execution_count": 6,
   "metadata": {},
   "outputs": [],
   "source": [
    "\n",
    "\n",
    "X_train, X_test, y_train, y_test = train_test_split(\n",
    "    X, y, test_size=0.20, random_state=44, shuffle=True)\n",
    "\n",
    "\n",
    "# ### Plot Train Data"
   ]
  },
  {
   "cell_type": "code",
   "execution_count": 7,
   "metadata": {},
   "outputs": [
    {
     "data": {
      "image/png": "[encoded data removed]",
      "text/plain": [
       "<Figure size 1080x360 with 2 Axes>"
      ]
     },
     "metadata": {
      "needs_background": "light"
     },
     "output_type": "display_data"
    }
   ],
   "source": [
    "\n",
    "\n",
    "fig, (ax1, ax2) = plt.subplots(1, 2, figsize=(15, 5))\n",
    "ax1.hist(X_train[:, 14], bins=46)\n",
    "ax2.hist(X_train[:, 15], bins=int(len(X_train[:, 12])/10))\n",
    "ax1.set_title('Age distribution')\n",
    "ax2.set_title('BMI distribution')\n",
    "plt.show()\n",
    "\n",
    "\n",
    "# # Phase 3\n",
    "# ## Applying Models\n",
    "# ### Multiple linear regression"
   ]
  },
  {
   "cell_type": "code",
   "execution_count": 8,
   "metadata": {},
   "outputs": [
    {
     "name": "stdout",
     "output_type": "stream",
     "text": [
      "0.7537256057742427\n",
      "[ 7326.48464383  3977.51303006 10358.37402186 29056.04558976\n",
      "  7159.47049712  1438.65757016 32971.62195056 36450.28642506\n",
      " 27477.03889799  8049.10523093]\n",
      "[ 4738.2682   2055.3249   7445.918   19361.9988   2755.02095  2709.1119\n",
      " 39241.442   42560.4304  34779.615    6500.2359 ]\n"
     ]
    }
   ],
   "source": [
    "\n",
    "\n",
    "model1 = LinearRegression()\n",
    "model1.fit(X_train, y_train)\n",
    "z=model1.score(X_test, y_test)\n",
    "print(z)\n",
    "predict = model1.predict(X_test)\n",
    "print(predict[0:10])\n",
    "print(y_test[0:10])\n",
    "\n",
    "# ### Polynomial regression"
   ]
  },
  {
   "cell_type": "code",
   "execution_count": 9,
   "metadata": {
    "lines_to_next_cell": 2
   },
   "outputs": [
    {
     "name": "stdout",
     "output_type": "stream",
     "text": [
      "0.8337980871959784\n",
      "[ 7092.28442383  2450.98461914  8971.63745117 20550.45532227\n",
      "  5435.88061523  4191.22753906 41705.9206543  41869.06225586\n",
      " 35236.88574219  8449.4855957 ]\n",
      "[ 4738.2682   2055.3249   7445.918   19361.9988   2755.02095  2709.1119\n",
      " 39241.442   42560.4304  34779.615    6500.2359 ]\n",
      "0.35037603124265604\n",
      "[ 5128.82175997  2361.4289204   8179.39264531 15420.64838627\n",
      "  2988.24752346  1914.59340315 13488.76019032 17101.40879183\n",
      " 10102.42537464  7367.46811652]\n",
      "[ 4738.2682   2055.3249   7445.918   19361.9988   2755.02095  2709.1119\n",
      " 39241.442   42560.4304  34779.615    6500.2359 ]\n"
     ]
    }
   ],
   "source": [
    "\n",
    "\n",
    "poly_reg = PolynomialFeatures(degree=2)\n",
    "model2 = LinearRegression()\n",
    "model2.fit(poly_reg.fit_transform(X_train), y_train)\n",
    "z=model2.score(poly_reg.fit_transform(X_test), y_test)\n",
    "predict=model2.predict(poly_reg.fit_transform(X_test))\n",
    "print(z)\n",
    "print(predict[0:10])\n",
    "print(y_test[0:10])\n",
    "\n",
    "\n",
    "# ### Support Vector Regression\n",
    "model3 = SVR(kernel = 'linear' , C=20 , epsilon=0.01)\n",
    "model3.fit(X_train, y_train)\n",
    "z=model3.score(X_test,y_test)\n",
    "predict = model3.predict(X_test)\n",
    "print(z)\n",
    "print(predict[0:10])\n",
    "print(y_test[0:10])"
   ]
  }
 ],
 "metadata": {
  "jupytext": {
   "cell_metadata_filter": "-all",
   "encoding": "# coding: utf-8",
   "executable": "/usr/bin/env python",
   "main_language": "python",
   "notebook_metadata_filter": "-all"
  },
  "kernelspec": {
   "display_name": "Python 3",
   "language": "python",
   "name": "python3"
  },
  "language_info": {
   "codemirror_mode": {
    "name": "ipython",
    "version": 3
   },
   "file_extension": ".py",
   "mimetype": "text/x-python",
   "name": "python",
   "nbconvert_exporter": "python",
   "pygments_lexer": "ipython3",
   "version": "3.8.5"
  }
 },
 "nbformat": 4,
 "nbformat_minor": 4
}
