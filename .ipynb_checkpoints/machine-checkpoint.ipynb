{
 "cells": [
  {
   "cell_type": "code",
   "execution_count": null,
   "metadata": {},
   "outputs": [],
   "source": [
    "\n",
    "# # <p style=\"text-align: center;\"> Names </p>\n",
    "# ## <p style=\"text-align: center;\"> AI S1,S2 </p>\n",
    "# | <font size=\"4\"> Name  </font> | <font size=\"4\">  ID  </font>|\n",
    "# | --- | --- |\n",
    "# | <font size=\"4\"> Ahmed Rushdi Mohammed </font> | <font size=\"4\"> 20180008 </font>  |\n",
    "# |  <font size=\"4\"> Mohammed Waleed Mohammed </font> | <font size=\"4\"> 20180244 </font>  |\n",
    "# |  <font size=\"4\"> Aoss Maged Sultan</font> | <font size=\"4\"> 20180432 </font>  |\n",
    "#\n",
    "# # Phase 1\n",
    "#\n",
    "# ### 1. Load Dataset"
   ]
  },
  {
   "cell_type": "code",
   "execution_count": null,
   "metadata": {
    "lines_to_next_cell": 2
   },
   "outputs": [],
   "source": [
    "\n",
    "from sklearn.svm import SVR\n",
    "import numpy as np\n",
    "from sklearn.preprocessing import PolynomialFeatures\n",
    "from sklearn.linear_model import LinearRegression\n",
    "import matplotlib.pyplot as plt\n",
    "from sklearn.model_selection import train_test_split\n",
    "from sklearn.compose import ColumnTransformer\n",
    "from sklearn.preprocessing import OneHotEncoder\n",
    "import pandas as pd"
   ]
  },
  {
   "cell_type": "code",
   "execution_count": null,
   "metadata": {},
   "outputs": [],
   "source": [
    "\n",
    "\n",
    "path = 'C:\\\\Users\\\\moham\\\\Downloads\\\\insurance.csv'\n",
    "df = pd.read_csv(path)\n",
    "X = df.iloc[:, :-1].values\n",
    "y = df.iloc[:, -1].values\n",
    "\n",
    "\n",
    "# # Phase 2\n",
    "# ### Handle Empty cells"
   ]
  },
  {
   "cell_type": "code",
   "execution_count": null,
   "metadata": {},
   "outputs": [],
   "source": [
    "\n",
    "\n",
    "df.isnull().sum()\n",
    "\n",
    "\n",
    "# df contains no null values\n",
    "\n",
    "#  ### Encoding"
   ]
  },
  {
   "cell_type": "code",
   "execution_count": null,
   "metadata": {},
   "outputs": [],
   "source": [
    "\n",
    "\n",
    "ct = ColumnTransformer(\n",
    "    [('one_hot_encoder', OneHotEncoder(categories='auto'), [1, 3, 4, 5])],\n",
    "    remainder='passthrough'\n",
    ")\n",
    "X = ct.fit_transform(X)\n",
    "\n",
    "# One hot encode the data\n",
    "\n",
    "# ### Train-test Split"
   ]
  },
  {
   "cell_type": "code",
   "execution_count": null,
   "metadata": {},
   "outputs": [],
   "source": [
    "\n",
    "\n",
    "X_train, X_test, y_train, y_test = train_test_split(\n",
    "    X, y, test_size=0.20, random_state=44, shuffle=True)\n",
    "\n",
    "\n",
    "# ### Plot Train Data"
   ]
  },
  {
   "cell_type": "code",
   "execution_count": null,
   "metadata": {},
   "outputs": [],
   "source": [
    "\n",
    "\n",
    "fig, (ax1, ax2) = plt.subplots(1, 2, figsize=(15, 5))\n",
    "ax1.hist(X_train[:, 14], bins=46)\n",
    "ax2.hist(X_train[:, 15], bins=int(len(X_train[:, 12])/10))\n",
    "ax1.set_title('Age distribution')\n",
    "ax2.set_title('BMI distribution')\n",
    "plt.show()\n",
    "\n",
    "\n",
    "# # Phase 3\n",
    "# ## Applying Models\n",
    "# ### Multiple linear regression"
   ]
  },
  {
   "cell_type": "code",
   "execution_count": null,
   "metadata": {},
   "outputs": [],
   "source": [
    "\n",
    "\n",
    "model1 = LinearRegression()\n",
    "model1.fit(X_train, y_train)\n",
    "z=model1.score(X_test, y_test)\n",
    "print(z)\n",
    "predict = model1.predict(X_test)\n",
    "print(predict[0:10])\n",
    "print(y_test[0:10])\n",
    "\n",
    "# ### Polynomial regression"
   ]
  },
  {
   "cell_type": "code",
   "execution_count": null,
   "metadata": {
    "lines_to_next_cell": 2
   },
   "outputs": [],
   "source": [
    "\n",
    "\n",
    "poly_reg = PolynomialFeatures(degree=2)\n",
    "model2 = LinearRegression()\n",
    "model2.fit(poly_reg.fit_transform(X_train), y_train)\n",
    "z=model2.score(poly_reg.fit_transform(X_test), y_test)\n",
    "predict=model2.predict(poly_reg.fit_transform(X_test))\n",
    "print(z)\n",
    "print(predict[0:10])\n",
    "print(y_test[0:10])\n",
    "\n",
    "\n",
    "# ### Support Vector Regression\n",
    "model3 = SVR(kernel = 'linear' , C=20 , epsilon=0.01)\n",
    "model3.fit(X_train, y_train)\n",
    "z=model3.score(X_test,y_test)\n",
    "predict = model3.predict(X_test)\n",
    "print(z)\n",
    "print(predict[0:10])\n",
    "print(y_test[0:10])"
   ]
  }
 ],
 "metadata": {
  "jupytext": {
   "cell_metadata_filter": "-all",
   "encoding": "# coding: utf-8",
   "executable": "/usr/bin/env python",
   "main_language": "python",
   "notebook_metadata_filter": "-all"
  }
 },
 "nbformat": 4,
 "nbformat_minor": 4
}
